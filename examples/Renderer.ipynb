{
 "cells": [
  {
   "cell_type": "markdown",
   "metadata": {},
   "source": [
    "# Renderer properties"
   ]
  },
  {
   "cell_type": "code",
   "execution_count": 1,
   "metadata": {},
   "outputs": [],
   "source": [
    "from pythreejs import *\n",
    "from IPython.display import display\n",
    "import ipywidgets"
   ]
  },
  {
   "cell_type": "markdown",
   "metadata": {},
   "source": [
    "## Transparent background\n",
    "\n",
    "To have the render view use a transparent background, there are three steps you need to do:\n",
    "1. Ensure that the `background` property of the `Scene` object is set to `None`.\n",
    "2. Ensure that `alpha=True` is passed to the constructor of the `Renderer` object. This ensures that an alpha channel is used by the renderer.\n",
    "3. Ensure that the `clearOpacity` property of the `Renderer` object is set to 0. For more details about this, see below."
   ]
  },
  {
   "cell_type": "code",
   "execution_count": 2,
   "metadata": {},
   "outputs": [
    {
     "data": {
      "application/vnd.jupyter.widget-view+json": {
       "model_id": "1b5af7d271b84d40ba8496977072a3a4",
       "version_major": 2,
       "version_minor": 0
      },
      "text/plain": [
       "Renderer(camera=PerspectiveCamera(children=(DirectionalLight(color='white', intensity=0.5, position=(3.0, 5.0,…"
      ]
     },
     "metadata": {},
     "output_type": "display_data"
    }
   ],
   "source": [
    "ball = Mesh(geometry=SphereGeometry(), \n",
    "            material=MeshLambertMaterial(color='red'))\n",
    "key_light = DirectionalLight(color='white', position=[3, 5, 1], intensity=0.5)\n",
    "\n",
    "c = PerspectiveCamera(position=[0, 5, 5], up=[0, 1, 0], children=[key_light])\n",
    "\n",
    "scene = Scene(children=[ball, c, AmbientLight(color='#777777')], background=None)\n",
    "\n",
    "renderer = Renderer(camera=c, \n",
    "                    scene=scene,\n",
    "                    alpha=True,\n",
    "                    clearOpacity=0,\n",
    "                    controls=[OrbitControls(controlling=c)])\n",
    "display(renderer)"
   ]
  },
  {
   "cell_type": "markdown",
   "metadata": {},
   "source": [
    "The use of clear color/opacity is explained in more detailed in the docs of three.js, but in short:\n",
    "- If `autoClear` is true the renderer output is cleared on each rendered frame.\n",
    "- If `autoClearColor` is true the background color is cleared on each frame.\n",
    "- When the background color is cleared, it is reset to `Renderer.clearColor`, with an opacity of `Renderer.clearOpacity`."
   ]
  },
  {
   "cell_type": "code",
   "execution_count": 3,
   "metadata": {},
   "outputs": [
    {
     "data": {
      "application/vnd.jupyter.widget-view+json": {
       "model_id": "00bd90f95ba1412d935c016ef5006872",
       "version_major": 2,
       "version_minor": 0
      },
      "text/plain": [
       "HBox(children=(Label(value='Clear color:'), ColorPicker(value='black'), Label(value='Clear opactiy:'), FloatSl…"
      ]
     },
     "metadata": {},
     "output_type": "display_data"
    }
   ],
   "source": [
    "# Let's set up some controls for the clear color/opacity:\n",
    "\n",
    "opacity = ipywidgets.FloatSlider(min=0., max=1.)\n",
    "ipywidgets.jslink((opacity, 'value'), (renderer, 'clearOpacity'))\n",
    "\n",
    "color = ipywidgets.ColorPicker()\n",
    "ipywidgets.jslink((color, 'value'), (renderer, 'clearColor'))\n",
    "\n",
    "display(ipywidgets.HBox(children=[\n",
    "    ipywidgets.Label('Clear color:'), color, ipywidgets.Label('Clear opactiy:'), opacity]))"
   ]
  },
  {
   "cell_type": "code",
   "execution_count": null,
   "metadata": {},
   "outputs": [],
   "source": []
  }
 ],
 "metadata": {
  "kernelspec": {
   "display_name": "Python 3",
   "language": "python",
   "name": "python3"
  },
  "language_info": {
   "codemirror_mode": {
    "name": "ipython",
    "version": 3
   },
   "file_extension": ".py",
   "mimetype": "text/x-python",
   "name": "python",
   "nbconvert_exporter": "python",
   "pygments_lexer": "ipython3",
   "version": "3.6.3"
  },
  "widgets": {
   "application/vnd.jupyter.widget-state+json": {
    "state": {
     "00bd90f95ba1412d935c016ef5006872": {
      "model_module": "@jupyter-widgets/controls",
      "model_module_version": "1.2.0",
      "model_name": "HBoxModel",
      "state": {
       "children": [
        "IPY_MODEL_316d811eb73344ada76b2c870b3b0c08",
        "IPY_MODEL_b5a348aa012e40cebb27d29655d7e03a",
        "IPY_MODEL_0270933b551149b68b3c08c2102cefde",
        "IPY_MODEL_0ebc0a6dc20249898a698a295713ce06"
       ],
       "layout": "IPY_MODEL_586eb4d1b43c4761a3b352a18f5ee97f"
      }
     },
     "0270933b551149b68b3c08c2102cefde": {
      "model_module": "@jupyter-widgets/controls",
      "model_module_version": "1.2.0",
      "model_name": "LabelModel",
      "state": {
       "layout": "IPY_MODEL_7f5cdcb5ce734c0e9dd5444048784309",
       "style": "IPY_MODEL_365e0cbe10af4aa4a62e3f1e426e5b0a",
       "value": "Clear opactiy:"
      }
     },
     "096a19b9cfb54abe96cc5e834293160b": {
      "model_module": "jupyter-threejs",
      "model_module_version": "~1.0.0",
      "model_name": "MeshModel",
      "state": {
       "_model_module_version": "~1.0.0",
       "_view_module": null,
       "_view_module_version": "",
       "geometry": "IPY_MODEL_23fc80345838453e879401a382772a51",
       "material": "IPY_MODEL_a6ecf5ecf08047f7960e740787526657",
       "morphTargetInfluences": []
      }
     },
     "0af9ecb049dc4026b306178c77b4e2c6": {
      "model_module": "@jupyter-widgets/controls",
      "model_module_version": "1.2.0",
      "model_name": "LinkModel",
      "state": {
       "source": [
        "IPY_MODEL_0ebc0a6dc20249898a698a295713ce06",
        "value"
       ],
       "target": [
        "IPY_MODEL_1b5af7d271b84d40ba8496977072a3a4",
        "clearOpacity"
       ]
      }
     },
     "0ebc0a6dc20249898a698a295713ce06": {
      "model_module": "@jupyter-widgets/controls",
      "model_module_version": "1.2.0",
      "model_name": "FloatSliderModel",
      "state": {
       "layout": "IPY_MODEL_89a5a88fac0b4a11add26ce2439ca14e",
       "max": 1,
       "step": 0.1,
       "style": "IPY_MODEL_26e803405f944f8cbc068f65f3dd5f53"
      }
     },
     "1b5af7d271b84d40ba8496977072a3a4": {
      "model_module": "jupyter-threejs",
      "model_module_version": "~1.0.0",
      "model_name": "RendererModel",
      "state": {
       "_alpha": true,
       "_model_module_version": "~1.0.0",
       "_view_module_version": "~1.0.0",
       "camera": "IPY_MODEL_92374d01cafe440ea779948cab026c99",
       "clearColor": "black",
       "clearOpacity": 0,
       "controls": [
        "IPY_MODEL_7ef8ac8ff82e41e29d558bee338ed661"
       ],
       "layout": "IPY_MODEL_52d50ff2264946869dda61354d157ab3",
       "scene": "IPY_MODEL_e7d90c46a8694645b5b741ff42d12f56",
       "shadowMap": "IPY_MODEL_b6ae2a2cccde4345b69fbec08999b70a"
      }
     },
     "23fc80345838453e879401a382772a51": {
      "model_module": "jupyter-threejs",
      "model_module_version": "~1.0.0",
      "model_name": "SphereGeometryModel",
      "state": {
       "_model_module_version": "~1.0.0",
       "_view_module": null,
       "_view_module_version": ""
      }
     },
     "26e803405f944f8cbc068f65f3dd5f53": {
      "model_module": "@jupyter-widgets/controls",
      "model_module_version": "1.2.0",
      "model_name": "SliderStyleModel",
      "state": {
       "description_width": ""
      }
     },
     "316d811eb73344ada76b2c870b3b0c08": {
      "model_module": "@jupyter-widgets/controls",
      "model_module_version": "1.2.0",
      "model_name": "LabelModel",
      "state": {
       "layout": "IPY_MODEL_47d870a046ce4fc3a1e271c413c8fab0",
       "style": "IPY_MODEL_87ea4afed75e4c07b1dbf1e377494242",
       "value": "Clear color:"
      }
     },
     "365e0cbe10af4aa4a62e3f1e426e5b0a": {
      "model_module": "@jupyter-widgets/controls",
      "model_module_version": "1.2.0",
      "model_name": "DescriptionStyleModel",
      "state": {
       "description_width": ""
      }
     },
     "47d870a046ce4fc3a1e271c413c8fab0": {
      "model_module": "@jupyter-widgets/base",
      "model_module_version": "1.0.0",
      "model_name": "LayoutModel",
      "state": {}
     },
     "52d50ff2264946869dda61354d157ab3": {
      "model_module": "@jupyter-widgets/base",
      "model_module_version": "1.0.0",
      "model_name": "LayoutModel",
      "state": {}
     },
     "5335985156f548e19304bbecdf88fa4a": {
      "model_module": "jupyter-threejs",
      "model_module_version": "~1.0.0",
      "model_name": "DirectionalLightModel",
      "state": {
       "_model_module_version": "~1.0.0",
       "_view_module": null,
       "_view_module_version": "",
       "color": "white",
       "intensity": 0.5,
       "matrixWorldNeedsUpdate": true,
       "position": [
        3,
        5,
        1
       ],
       "shadow": "IPY_MODEL_e6093da6-aae3-4872-b971-6f8e3cbd95e8",
       "target": "IPY_MODEL_700a06a2-b056-4b92-89ed-84cd32ec8a3f"
      }
     },
     "586eb4d1b43c4761a3b352a18f5ee97f": {
      "model_module": "@jupyter-widgets/base",
      "model_module_version": "1.0.0",
      "model_name": "LayoutModel",
      "state": {}
     },
     "5926cc02f8cf4625977ea0c1ed05f16a": {
      "model_module": "@jupyter-widgets/controls",
      "model_module_version": "1.2.0",
      "model_name": "DescriptionStyleModel",
      "state": {
       "description_width": ""
      }
     },
     "619e268b-1192-4b78-b193-276769e6e326": {
      "model_module": "jupyter-threejs",
      "model_module_version": "1.0.0",
      "model_name": "OrthographicCameraModel",
      "state": {
       "bottom": -5,
       "far": 500,
       "left": -5,
       "near": 0.5,
       "projectionMatrix": [
        0.2,
        0,
        0,
        0,
        0,
        0.2,
        0,
        0,
        0,
        0,
        -0.004004004004004004,
        0,
        0,
        0,
        -1.002002002002002,
        1
       ],
       "right": 5,
       "top": 5
      }
     },
     "700a06a2-b056-4b92-89ed-84cd32ec8a3f": {
      "model_module": "jupyter-threejs",
      "model_module_version": "1.0.0",
      "model_name": "Object3DModel",
      "state": {}
     },
     "7ef8ac8ff82e41e29d558bee338ed661": {
      "model_module": "jupyter-threejs",
      "model_module_version": "~1.0.0",
      "model_name": "OrbitControlsModel",
      "state": {
       "_model_module_version": "~1.0.0",
       "_view_module": null,
       "_view_module_version": "",
       "controlling": "IPY_MODEL_92374d01cafe440ea779948cab026c99",
       "maxAzimuthAngle": "inf",
       "maxDistance": "inf",
       "maxZoom": "inf",
       "minAzimuthAngle": "-inf"
      }
     },
     "7f5cdcb5ce734c0e9dd5444048784309": {
      "model_module": "@jupyter-widgets/base",
      "model_module_version": "1.0.0",
      "model_name": "LayoutModel",
      "state": {}
     },
     "87ea4afed75e4c07b1dbf1e377494242": {
      "model_module": "@jupyter-widgets/controls",
      "model_module_version": "1.2.0",
      "model_name": "DescriptionStyleModel",
      "state": {
       "description_width": ""
      }
     },
     "89a5a88fac0b4a11add26ce2439ca14e": {
      "model_module": "@jupyter-widgets/base",
      "model_module_version": "1.0.0",
      "model_name": "LayoutModel",
      "state": {}
     },
     "92374d01cafe440ea779948cab026c99": {
      "model_module": "jupyter-threejs",
      "model_module_version": "~1.0.0",
      "model_name": "PerspectiveCameraModel",
      "state": {
       "_model_module_version": "~1.0.0",
       "_view_module": null,
       "_view_module_version": "",
       "children": [
        "IPY_MODEL_5335985156f548e19304bbecdf88fa4a"
       ],
       "position": [
        0,
        5,
        5
       ],
       "projectionMatrix": [
        2.1445069205095586,
        0,
        0,
        0,
        0,
        2.1445069205095586,
        0,
        0,
        0,
        0,
        -1.00010000500025,
        -1,
        0,
        0,
        -0.200010000500025,
        0
       ]
      }
     },
     "a6ecf5ecf08047f7960e740787526657": {
      "model_module": "jupyter-threejs",
      "model_module_version": "~1.0.0",
      "model_name": "MeshLambertMaterialModel",
      "state": {
       "_model_module_version": "~1.0.0",
       "_view_module": null,
       "_view_module_version": "",
       "color": "red"
      }
     },
     "b5a348aa012e40cebb27d29655d7e03a": {
      "model_module": "@jupyter-widgets/controls",
      "model_module_version": "1.2.0",
      "model_name": "ColorPickerModel",
      "state": {
       "disabled": false,
       "layout": "IPY_MODEL_ddd00a0e53fa415d8f27a048fb6f9dc9",
       "style": "IPY_MODEL_5926cc02f8cf4625977ea0c1ed05f16a"
      }
     },
     "b6ae2a2cccde4345b69fbec08999b70a": {
      "model_module": "jupyter-threejs",
      "model_module_version": "~1.0.0",
      "model_name": "WebGLShadowMapModel",
      "state": {
       "_model_module_version": "~1.0.0",
       "_view_module": null,
       "_view_module_version": ""
      }
     },
     "c1cb9b148dfc4e58816d7f9613fe6463": {
      "model_module": "@jupyter-widgets/controls",
      "model_module_version": "1.2.0",
      "model_name": "LinkModel",
      "state": {
       "source": [
        "IPY_MODEL_b5a348aa012e40cebb27d29655d7e03a",
        "value"
       ],
       "target": [
        "IPY_MODEL_1b5af7d271b84d40ba8496977072a3a4",
        "clearColor"
       ]
      }
     },
     "ddd00a0e53fa415d8f27a048fb6f9dc9": {
      "model_module": "@jupyter-widgets/base",
      "model_module_version": "1.0.0",
      "model_name": "LayoutModel",
      "state": {}
     },
     "e03a400981184a499fbb1fb8fefa844e": {
      "model_module": "jupyter-threejs",
      "model_module_version": "~1.0.0",
      "model_name": "AmbientLightModel",
      "state": {
       "_model_module_version": "~1.0.0",
       "_view_module": null,
       "_view_module_version": "",
       "color": "#777777"
      }
     },
     "e6093da6-aae3-4872-b971-6f8e3cbd95e8": {
      "model_module": "jupyter-threejs",
      "model_module_version": "1.0.0",
      "model_name": "DirectionalLightShadowModel",
      "state": {
       "camera": "IPY_MODEL_619e268b-1192-4b78-b193-276769e6e326"
      }
     },
     "e7d90c46a8694645b5b741ff42d12f56": {
      "model_module": "jupyter-threejs",
      "model_module_version": "~1.0.0",
      "model_name": "SceneModel",
      "state": {
       "_model_module_version": "~1.0.0",
       "_view_module": null,
       "_view_module_version": "",
       "background": null,
       "children": [
        "IPY_MODEL_096a19b9cfb54abe96cc5e834293160b",
        "IPY_MODEL_92374d01cafe440ea779948cab026c99",
        "IPY_MODEL_e03a400981184a499fbb1fb8fefa844e"
       ]
      }
     }
    },
    "version_major": 2,
    "version_minor": 0
   }
  }
 },
 "nbformat": 4,
 "nbformat_minor": 2
}
