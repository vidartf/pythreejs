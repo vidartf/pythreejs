{
 "cells": [
  {
   "cell_type": "markdown",
   "metadata": {},
   "source": [
    "# Renderer properties"
   ]
  },
  {
   "cell_type": "code",
   "execution_count": 1,
   "metadata": {},
   "outputs": [],
   "source": [
    "from pythreejs import *\n",
    "from IPython.display import display\n",
    "import ipywidgets"
   ]
  },
  {
   "cell_type": "markdown",
   "metadata": {},
   "source": [
    "## Transparent background\n",
    "\n",
    "To have the render view use a transparent background, there are three steps you need to do:\n",
    "1. Ensure that the `background` property of the `Scene` object is set to `None`.\n",
    "2. Ensure that `alpha=True` is passed to the constructor of the `Renderer` object. This ensures that an alpha channel is used by the renderer.\n",
    "3. Ensure that the `clearOpacity` property of the `Renderer` object is set to 0. For more details about this, see below."
   ]
  },
  {
   "cell_type": "code",
   "execution_count": 2,
   "metadata": {},
   "outputs": [
    {
     "data": {
      "application/vnd.jupyter.widget-view+json": {
       "model_id": "dc62a561dd474f348249b691f1a99620",
       "version_major": 2,
       "version_minor": 0
      },
      "text/plain": [
       "Renderer(camera=PerspectiveCamera(children=(DirectionalLight(color='white', intensity=0.5, position=(3.0, 5.0,…"
      ]
     },
     "metadata": {},
     "output_type": "display_data"
    }
   ],
   "source": [
    "ball = Mesh(geometry=SphereGeometry(), \n",
    "            material=MeshLambertMaterial(color='red'))\n",
    "key_light = DirectionalLight(color='white', position=[3, 5, 1], intensity=0.5)\n",
    "\n",
    "c = PerspectiveCamera(position=[0, 5, 5], up=[0, 1, 0], children=[key_light])\n",
    "\n",
    "scene = Scene(children=[ball, c, AmbientLight(color='#777777')], background=None)\n",
    "\n",
    "renderer = Renderer(camera=c, \n",
    "                    scene=scene,\n",
    "                    alpha=True,\n",
    "                    clearOpacity=0,\n",
    "                    controls=[OrbitControls(controlling=c)])\n",
    "display(renderer)"
   ]
  },
  {
   "cell_type": "markdown",
   "metadata": {},
   "source": [
    "The use of clear color/opacity is explained in more detailed in the docs of three.js, but in short:\n",
    "- If `autoClear` is true the renderer output is cleared on each rendered frame.\n",
    "- If `autoClearColor` is true the background color is cleared on each frame.\n",
    "- When the background color is cleared, it is reset to `Renderer.clearColor`, with an opacity of `Renderer.clearOpacity`."
   ]
  },
  {
   "cell_type": "code",
   "execution_count": 3,
   "metadata": {},
   "outputs": [
    {
     "data": {
      "application/vnd.jupyter.widget-view+json": {
       "model_id": "2b368c213e484838bab47309e06f0aad",
       "version_major": 2,
       "version_minor": 0
      },
      "text/plain": [
       "HBox(children=(Label(value='Clear color:'), ColorPicker(value='black'), Label(value='Clear opactiy:'), FloatSl…"
      ]
     },
     "metadata": {},
     "output_type": "display_data"
    }
   ],
   "source": [
    "# Let's set up some controls for the clear color/opacity:\n",
    "\n",
    "opacity = ipywidgets.FloatSlider(min=0., max=1.)\n",
    "ipywidgets.jslink((opacity, 'value'), (renderer, 'clearOpacity'))\n",
    "\n",
    "color = ipywidgets.ColorPicker()\n",
    "ipywidgets.jslink((color, 'value'), (renderer, 'clearColor'))\n",
    "\n",
    "display(ipywidgets.HBox(children=[\n",
    "    ipywidgets.Label('Clear color:'), color, ipywidgets.Label('Clear opactiy:'), opacity]))"
   ]
  },
  {
   "cell_type": "markdown",
   "metadata": {},
   "source": [
    "## Scene background\n",
    "\n",
    "If we set the background property of the scene, it will be filled in on top of whatever clear color is there, basically making the clear color ineffective."
   ]
  },
  {
   "cell_type": "code",
   "execution_count": 4,
   "metadata": {},
   "outputs": [
    {
     "data": {
      "application/vnd.jupyter.widget-view+json": {
       "model_id": "79cd33058cc74dcd936f4bb99540df49",
       "version_major": 2,
       "version_minor": 0
      },
      "text/plain": [
       "HBox(children=(Label(value='Scene background color:'), ColorPicker(value='black'), ToggleButton(value=False, d…"
      ]
     },
     "metadata": {},
     "output_type": "display_data"
    }
   ],
   "source": [
    "scene_background = ipywidgets.ColorPicker()\n",
    "_background_link = None\n",
    "\n",
    "def toggle_scene_background(change):\n",
    "    global _background_link\n",
    "    if change['new']:\n",
    "        _background_link = ipywidgets.jslink((scene_background, 'value'), (scene, 'background'))\n",
    "    else:\n",
    "        _background_link.close()\n",
    "        _background_link = None\n",
    "        scene.background = None\n",
    "\n",
    "scene_background_toggle = ipywidgets.ToggleButton(False, description='Scene Color')\n",
    "scene_background_toggle.observe(toggle_scene_background, 'value')\n",
    "\n",
    "display(ipywidgets.HBox(children=[\n",
    "    ipywidgets.Label('Scene background color:'), scene_background, scene_background_toggle]))"
   ]
  },
  {
   "cell_type": "code",
   "execution_count": null,
   "metadata": {},
   "outputs": [],
   "source": []
  }
 ],
 "metadata": {
  "kernelspec": {
   "display_name": "Python 3",
   "language": "python",
   "name": "python3"
  },
  "language_info": {
   "codemirror_mode": {
    "name": "ipython",
    "version": 3
   },
   "file_extension": ".py",
   "mimetype": "text/x-python",
   "name": "python",
   "nbconvert_exporter": "python",
   "pygments_lexer": "ipython3",
   "version": "3.6.3"
  },
  "widgets": {
   "application/vnd.jupyter.widget-state+json": {
    "state": {
     "0df28b46d30c40c596db74b18de5507e": {
      "model_module": "@jupyter-widgets/controls",
      "model_module_version": "1.2.0",
      "model_name": "DescriptionStyleModel",
      "state": {
       "description_width": ""
      }
     },
     "15fc5b9ae1db4665bd611ce55ef47b81": {
      "model_module": "jupyter-threejs",
      "model_module_version": "~1.0.0",
      "model_name": "OrbitControlsModel",
      "state": {
       "_model_module_version": "~1.0.0",
       "_view_module": null,
       "_view_module_version": "",
       "controlling": "IPY_MODEL_beb9445fba44496cbc5fa709a327ce30",
       "maxAzimuthAngle": "inf",
       "maxDistance": "inf",
       "maxZoom": "inf",
       "minAzimuthAngle": "-inf"
      }
     },
     "18f71b7923384ff591af47c7be9eccd7": {
      "model_module": "@jupyter-widgets/base",
      "model_module_version": "1.0.0",
      "model_name": "LayoutModel",
      "state": {}
     },
     "2ab60d77e5bb4f3e89f4b146170e552b": {
      "model_module": "@jupyter-widgets/controls",
      "model_module_version": "1.2.0",
      "model_name": "DescriptionStyleModel",
      "state": {
       "description_width": ""
      }
     },
     "2b368c213e484838bab47309e06f0aad": {
      "model_module": "@jupyter-widgets/controls",
      "model_module_version": "1.2.0",
      "model_name": "HBoxModel",
      "state": {
       "children": [
        "IPY_MODEL_8cdeac734281452fbcf8349668f14f25",
        "IPY_MODEL_c648cdb67d214507bbccec864ffd2591",
        "IPY_MODEL_e87a2ce45f8f42a688f64efed2f95441",
        "IPY_MODEL_6e16690093eb4c63bb419646c2367580"
       ],
       "layout": "IPY_MODEL_e623fa448e6b4d2985017a659c1314cb"
      }
     },
     "2f8e1f00-9e65-4555-a6b5-60712026f9a0": {
      "model_module": "jupyter-threejs",
      "model_module_version": "1.0.0",
      "model_name": "Object3DModel",
      "state": {}
     },
     "304f5b4028544af58aea451f8d7273ac": {
      "model_module": "@jupyter-widgets/base",
      "model_module_version": "1.0.0",
      "model_name": "LayoutModel",
      "state": {}
     },
     "30a14382e106470b8d1bffc438a6dc0c": {
      "model_module": "jupyter-threejs",
      "model_module_version": "~1.0.0",
      "model_name": "SphereGeometryModel",
      "state": {
       "_model_module_version": "~1.0.0",
       "_view_module": null,
       "_view_module_version": ""
      }
     },
     "34f3a329bb5a4d25917842a3c13331f1": {
      "model_module": "@jupyter-widgets/controls",
      "model_module_version": "1.2.0",
      "model_name": "LabelModel",
      "state": {
       "layout": "IPY_MODEL_9285899fdd494c7984f6de7621a5db3b",
       "style": "IPY_MODEL_2ab60d77e5bb4f3e89f4b146170e552b",
       "value": "Scene background color:"
      }
     },
     "375c1a8f967545f992707b818deffa48": {
      "model_module": "jupyter-threejs",
      "model_module_version": "~1.0.0",
      "model_name": "WebGLShadowMapModel",
      "state": {
       "_model_module_version": "~1.0.0",
       "_view_module": null,
       "_view_module_version": ""
      }
     },
     "663e2267cc4f4f2998376f4b6f83dce2": {
      "model_module": "@jupyter-widgets/controls",
      "model_module_version": "1.2.0",
      "model_name": "SliderStyleModel",
      "state": {
       "description_width": ""
      }
     },
     "67624f5263684a948cb20ec059d752ab": {
      "model_module": "@jupyter-widgets/base",
      "model_module_version": "1.0.0",
      "model_name": "LayoutModel",
      "state": {}
     },
     "6e16690093eb4c63bb419646c2367580": {
      "model_module": "@jupyter-widgets/controls",
      "model_module_version": "1.2.0",
      "model_name": "FloatSliderModel",
      "state": {
       "layout": "IPY_MODEL_67624f5263684a948cb20ec059d752ab",
       "max": 1,
       "step": 0.1,
       "style": "IPY_MODEL_663e2267cc4f4f2998376f4b6f83dce2"
      }
     },
     "711fd561e24245bcadda1c28335525ee": {
      "model_module": "jupyter-threejs",
      "model_module_version": "~1.0.0",
      "model_name": "MeshLambertMaterialModel",
      "state": {
       "_model_module_version": "~1.0.0",
       "_view_module": null,
       "_view_module_version": "",
       "color": "red"
      }
     },
     "7765fefcd64148879cbfc92c6ab9c53c": {
      "model_module": "@jupyter-widgets/controls",
      "model_module_version": "1.2.0",
      "model_name": "DescriptionStyleModel",
      "state": {
       "description_width": ""
      }
     },
     "79cd33058cc74dcd936f4bb99540df49": {
      "model_module": "@jupyter-widgets/controls",
      "model_module_version": "1.2.0",
      "model_name": "HBoxModel",
      "state": {
       "children": [
        "IPY_MODEL_34f3a329bb5a4d25917842a3c13331f1",
        "IPY_MODEL_a5c86938fce54ef8855cff16d7dfdd6c",
        "IPY_MODEL_b6d64ae8429d4fb6b371daf8b3d5aa80"
       ],
       "layout": "IPY_MODEL_d1d46a6470884e57a6814d487ef49211"
      }
     },
     "854d1bd7aeba4fff84ad1f2d7c6ed0b6": {
      "model_module": "jupyter-threejs",
      "model_module_version": "~1.0.0",
      "model_name": "DirectionalLightModel",
      "state": {
       "_model_module_version": "~1.0.0",
       "_view_module": null,
       "_view_module_version": "",
       "color": "white",
       "intensity": 0.5,
       "matrixWorldNeedsUpdate": true,
       "position": [
        3,
        5,
        1
       ],
       "shadow": "IPY_MODEL_8dd37c5e-5dcd-435b-85da-6479ff91cfd0",
       "target": "IPY_MODEL_2f8e1f00-9e65-4555-a6b5-60712026f9a0"
      }
     },
     "8cdeac734281452fbcf8349668f14f25": {
      "model_module": "@jupyter-widgets/controls",
      "model_module_version": "1.2.0",
      "model_name": "LabelModel",
      "state": {
       "layout": "IPY_MODEL_f825e36b95394baebdb75f21d146e2f9",
       "style": "IPY_MODEL_f70e3dca9e5f4d7ca48fd7e9cc04eef7",
       "value": "Clear color:"
      }
     },
     "8dd37c5e-5dcd-435b-85da-6479ff91cfd0": {
      "model_module": "jupyter-threejs",
      "model_module_version": "1.0.0",
      "model_name": "DirectionalLightShadowModel",
      "state": {
       "camera": "IPY_MODEL_b876c579-0196-4844-b3cf-9ac18599fcd0"
      }
     },
     "9285899fdd494c7984f6de7621a5db3b": {
      "model_module": "@jupyter-widgets/base",
      "model_module_version": "1.0.0",
      "model_name": "LayoutModel",
      "state": {}
     },
     "a32cad5afa4f4a67848a255000edd7e2": {
      "model_module": "@jupyter-widgets/controls",
      "model_module_version": "1.2.0",
      "model_name": "LinkModel",
      "state": {
       "source": [
        "IPY_MODEL_c648cdb67d214507bbccec864ffd2591",
        "value"
       ],
       "target": [
        "IPY_MODEL_dc62a561dd474f348249b691f1a99620",
        "clearColor"
       ]
      }
     },
     "a5c86938fce54ef8855cff16d7dfdd6c": {
      "model_module": "@jupyter-widgets/controls",
      "model_module_version": "1.2.0",
      "model_name": "ColorPickerModel",
      "state": {
       "disabled": false,
       "layout": "IPY_MODEL_18f71b7923384ff591af47c7be9eccd7",
       "style": "IPY_MODEL_e873740d52764ab5a1ebb9152d600af8"
      }
     },
     "a8431903854e4c63ba22ff13e72dafb5": {
      "model_module": "@jupyter-widgets/base",
      "model_module_version": "1.0.0",
      "model_name": "LayoutModel",
      "state": {}
     },
     "b6d64ae8429d4fb6b371daf8b3d5aa80": {
      "model_module": "@jupyter-widgets/controls",
      "model_module_version": "1.2.0",
      "model_name": "ToggleButtonModel",
      "state": {
       "description": "Scene Color",
       "layout": "IPY_MODEL_304f5b4028544af58aea451f8d7273ac",
       "style": "IPY_MODEL_0df28b46d30c40c596db74b18de5507e"
      }
     },
     "b8256df715d8463eabb86c66f96c5c37": {
      "model_module": "jupyter-threejs",
      "model_module_version": "~1.0.0",
      "model_name": "SceneModel",
      "state": {
       "_model_module_version": "~1.0.0",
       "_view_module": null,
       "_view_module_version": "",
       "background": null,
       "children": [
        "IPY_MODEL_e5f46ada8bea403ea3af6d2ec03abfbc",
        "IPY_MODEL_beb9445fba44496cbc5fa709a327ce30",
        "IPY_MODEL_d1534ce700094814b8543b544247a877"
       ]
      }
     },
     "b876c579-0196-4844-b3cf-9ac18599fcd0": {
      "model_module": "jupyter-threejs",
      "model_module_version": "1.0.0",
      "model_name": "OrthographicCameraModel",
      "state": {
       "bottom": -5,
       "far": 500,
       "left": -5,
       "near": 0.5,
       "projectionMatrix": [
        0.2,
        0,
        0,
        0,
        0,
        0.2,
        0,
        0,
        0,
        0,
        -0.004004004004004004,
        0,
        0,
        0,
        -1.002002002002002,
        1
       ],
       "right": 5,
       "top": 5
      }
     },
     "beb9445fba44496cbc5fa709a327ce30": {
      "model_module": "jupyter-threejs",
      "model_module_version": "~1.0.0",
      "model_name": "PerspectiveCameraModel",
      "state": {
       "_model_module_version": "~1.0.0",
       "_view_module": null,
       "_view_module_version": "",
       "children": [
        "IPY_MODEL_854d1bd7aeba4fff84ad1f2d7c6ed0b6"
       ],
       "position": [
        0,
        5,
        5
       ],
       "projectionMatrix": [
        2.1445069205095586,
        0,
        0,
        0,
        0,
        2.1445069205095586,
        0,
        0,
        0,
        0,
        -1.00010000500025,
        -1,
        0,
        0,
        -0.200010000500025,
        0
       ]
      }
     },
     "c5fe0b6781574ad794306dcca24f19a2": {
      "model_module": "@jupyter-widgets/controls",
      "model_module_version": "1.2.0",
      "model_name": "LinkModel",
      "state": {
       "source": [
        "IPY_MODEL_6e16690093eb4c63bb419646c2367580",
        "value"
       ],
       "target": [
        "IPY_MODEL_dc62a561dd474f348249b691f1a99620",
        "clearOpacity"
       ]
      }
     },
     "c648cdb67d214507bbccec864ffd2591": {
      "model_module": "@jupyter-widgets/controls",
      "model_module_version": "1.2.0",
      "model_name": "ColorPickerModel",
      "state": {
       "disabled": false,
       "layout": "IPY_MODEL_a8431903854e4c63ba22ff13e72dafb5",
       "style": "IPY_MODEL_7765fefcd64148879cbfc92c6ab9c53c"
      }
     },
     "c7ffff870ca549e1b3aa0251bd2dbc31": {
      "model_module": "@jupyter-widgets/controls",
      "model_module_version": "1.2.0",
      "model_name": "DescriptionStyleModel",
      "state": {
       "description_width": ""
      }
     },
     "d1534ce700094814b8543b544247a877": {
      "model_module": "jupyter-threejs",
      "model_module_version": "~1.0.0",
      "model_name": "AmbientLightModel",
      "state": {
       "_model_module_version": "~1.0.0",
       "_view_module": null,
       "_view_module_version": "",
       "color": "#777777"
      }
     },
     "d1d46a6470884e57a6814d487ef49211": {
      "model_module": "@jupyter-widgets/base",
      "model_module_version": "1.0.0",
      "model_name": "LayoutModel",
      "state": {}
     },
     "dc62a561dd474f348249b691f1a99620": {
      "model_module": "jupyter-threejs",
      "model_module_version": "~1.0.0",
      "model_name": "RendererModel",
      "state": {
       "_alpha": true,
       "_model_module_version": "~1.0.0",
       "_view_module_version": "~1.0.0",
       "camera": "IPY_MODEL_beb9445fba44496cbc5fa709a327ce30",
       "clearColor": "black",
       "clearOpacity": 0,
       "controls": [
        "IPY_MODEL_15fc5b9ae1db4665bd611ce55ef47b81"
       ],
       "layout": "IPY_MODEL_eee948a888e145ee9897da7f4e4b9938",
       "scene": "IPY_MODEL_b8256df715d8463eabb86c66f96c5c37",
       "shadowMap": "IPY_MODEL_375c1a8f967545f992707b818deffa48"
      }
     },
     "e5f46ada8bea403ea3af6d2ec03abfbc": {
      "model_module": "jupyter-threejs",
      "model_module_version": "~1.0.0",
      "model_name": "MeshModel",
      "state": {
       "_model_module_version": "~1.0.0",
       "_view_module": null,
       "_view_module_version": "",
       "geometry": "IPY_MODEL_30a14382e106470b8d1bffc438a6dc0c",
       "material": "IPY_MODEL_711fd561e24245bcadda1c28335525ee",
       "morphTargetInfluences": []
      }
     },
     "e623fa448e6b4d2985017a659c1314cb": {
      "model_module": "@jupyter-widgets/base",
      "model_module_version": "1.0.0",
      "model_name": "LayoutModel",
      "state": {}
     },
     "e873740d52764ab5a1ebb9152d600af8": {
      "model_module": "@jupyter-widgets/controls",
      "model_module_version": "1.2.0",
      "model_name": "DescriptionStyleModel",
      "state": {
       "description_width": ""
      }
     },
     "e87a2ce45f8f42a688f64efed2f95441": {
      "model_module": "@jupyter-widgets/controls",
      "model_module_version": "1.2.0",
      "model_name": "LabelModel",
      "state": {
       "layout": "IPY_MODEL_f806d70da57c45aebfd9e73722964f68",
       "style": "IPY_MODEL_c7ffff870ca549e1b3aa0251bd2dbc31",
       "value": "Clear opactiy:"
      }
     },
     "eee948a888e145ee9897da7f4e4b9938": {
      "model_module": "@jupyter-widgets/base",
      "model_module_version": "1.0.0",
      "model_name": "LayoutModel",
      "state": {}
     },
     "f70e3dca9e5f4d7ca48fd7e9cc04eef7": {
      "model_module": "@jupyter-widgets/controls",
      "model_module_version": "1.2.0",
      "model_name": "DescriptionStyleModel",
      "state": {
       "description_width": ""
      }
     },
     "f806d70da57c45aebfd9e73722964f68": {
      "model_module": "@jupyter-widgets/base",
      "model_module_version": "1.0.0",
      "model_name": "LayoutModel",
      "state": {}
     },
     "f825e36b95394baebdb75f21d146e2f9": {
      "model_module": "@jupyter-widgets/base",
      "model_module_version": "1.0.0",
      "model_name": "LayoutModel",
      "state": {}
     }
    },
    "version_major": 2,
    "version_minor": 0
   }
  }
 },
 "nbformat": 4,
 "nbformat_minor": 2
}
